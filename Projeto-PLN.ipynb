{
 "cells": [
  {
   "cell_type": "code",
   "execution_count": 173,
   "metadata": {
    "scrolled": true
   },
   "outputs": [],
   "source": [
    "import nltk\n",
    "from nltk.stem import WordNetLemmatizer\n",
    "from nltk.corpus import wordnet\n",
    "\n",
    "import re"
   ]
  },
  {
   "cell_type": "code",
   "execution_count": 2,
   "metadata": {},
   "outputs": [],
   "source": [
    "string = \"The Australian women's national wheelchair basketball team played in the 2012 Summer Paralympics in London. The wheelchair basketball team, known as the Gliders, included nine Paralympic veterans, Bridie Kean, Amanda Carter, Sarah Stewart, Tina McKenzie, Kylie Gauci, Katie Hill, Cobi Crispin, Clare Nott and Shelley Chaplin (pictured), along with three newcomers, Amber Merritt, Sarah Vinci and Leanne Del Toso. The team had won silver in Sydney and Athens, but never gold. The Gliders faced a formidable task just to make the finals, as their round-robin pool included Brazil, Great Britain, Canada and the Netherlands. After a narrow victory over Brazil, and an easier one against Great Britain, the Gliders were defeated by Canada, but won their final match against the Netherlands to finish at the top of their pool. They went on to win the quarterfinal against Mexico and the semifinal against the United States, but lost to Germany in the final, winning silver. (\""
   ]
  },
  {
   "cell_type": "code",
   "execution_count": 3,
   "metadata": {},
   "outputs": [],
   "source": [
    "def tokenizer(string):\n",
    "    #https://www.w3schools.com/python/python_regex.asp#findall\n",
    "    regex = r\"\\b[-a-zA-ZÀ-ÖØ-öø-ÿ0-9]+\\b\"\n",
    "    return re.findall(regex, string)"
   ]
  },
  {
   "cell_type": "code",
   "execution_count": 4,
   "metadata": {},
   "outputs": [
    {
     "name": "stdout",
     "output_type": "stream",
     "text": [
      "['The', 'Australian', 'women', 's', 'national', 'wheelchair', 'basketball', 'team', 'played', 'in', 'the', '2012', 'Summer', 'Paralympics', 'in', 'London', 'The', 'wheelchair', 'basketball', 'team', 'known', 'as', 'the', 'Gliders', 'included', 'nine', 'Paralympic', 'veterans', 'Bridie', 'Kean', 'Amanda', 'Carter', 'Sarah', 'Stewart', 'Tina', 'McKenzie', 'Kylie', 'Gauci', 'Katie', 'Hill', 'Cobi', 'Crispin', 'Clare', 'Nott', 'and', 'Shelley', 'Chaplin', 'pictured', 'along', 'with', 'three', 'newcomers', 'Amber', 'Merritt', 'Sarah', 'Vinci', 'and', 'Leanne', 'Del', 'Toso', 'The', 'team', 'had', 'won', 'silver', 'in', 'Sydney', 'and', 'Athens', 'but', 'never', 'gold', 'The', 'Gliders', 'faced', 'a', 'formidable', 'task', 'just', 'to', 'make', 'the', 'finals', 'as', 'their', 'round-robin', 'pool', 'included', 'Brazil', 'Great', 'Britain', 'Canada', 'and', 'the', 'Netherlands', 'After', 'a', 'narrow', 'victory', 'over', 'Brazil', 'and', 'an', 'easier', 'one', 'against', 'Great', 'Britain', 'the', 'Gliders', 'were', 'defeated', 'by', 'Canada', 'but', 'won', 'their', 'final', 'match', 'against', 'the', 'Netherlands', 'to', 'finish', 'at', 'the', 'top', 'of', 'their', 'pool', 'They', 'went', 'on', 'to', 'win', 'the', 'quarterfinal', 'against', 'Mexico', 'and', 'the', 'semifinal', 'against', 'the', 'United', 'States', 'but', 'lost', 'to', 'Germany', 'in', 'the', 'final', 'winning', 'silver']\n"
     ]
    }
   ],
   "source": [
    "tokens = tokenizer(string)\n",
    "print(tokens)"
   ]
  },
  {
   "cell_type": "code",
   "execution_count": 5,
   "metadata": {},
   "outputs": [
    {
     "name": "stdout",
     "output_type": "stream",
     "text": [
      "[\"The Australian women's national wheelchair basketball team played in the 2012 Summer Paralympics in London.\", 'The wheelchair basketball team, known as the Gliders, included nine Paralympic veterans, Bridie Kean, Amanda Carter, Sarah Stewart, Tina McKenzie, Kylie Gauci, Katie Hill, Cobi Crispin, Clare Nott and Shelley Chaplin (pictured), along with three newcomers, Amber Merritt, Sarah Vinci and Leanne Del Toso.', 'The team had won silver in Sydney and Athens, but never gold.', 'The Gliders faced a formidable task just to make the finals, as their round-robin pool included Brazil, Great Britain, Canada and the Netherlands.', 'After a narrow victory over Brazil, and an easier one against Great Britain, the Gliders were defeated by Canada, but won their final match against the Netherlands to finish at the top of their pool.', 'They went on to win the quarterfinal against Mexico and the semifinal against the United States, but lost to Germany in the final, winning silver.', '(']\n"
     ]
    }
   ],
   "source": [
    "segmented_string = nltk.sent_tokenize(string)\n",
    "print(segmented_string)"
   ]
  },
  {
   "cell_type": "code",
   "execution_count": 171,
   "metadata": {},
   "outputs": [
    {
     "data": {
      "text/plain": [
       "'The Australian womens national wheelchair basketball team played in the 2012 Summer Paralympics in London The wheelchair basketball team known as the Gliders included nine Paralympic veterans Bridie Kean Amanda Carter Sarah Stewart Tina McKenzie Kylie Gauci Katie Hill Cobi Crispin Clare Nott and Shelley Chaplin pictured along with three newcomers Amber Merritt Sarah Vinci and Leanne Del Toso The team had won silver in Sydney and Athens but never gold The Gliders faced a formidable task just to make the finals as their roundrobin pool included Brazil Great Britain Canada and the Netherlands After a narrow victory over Brazil and an easier one against Great Britain the Gliders were defeated by Canada but won their final match against the Netherlands to finish at the top of their pool They went on to win the quarterfinal against Mexico and the semifinal against the United States but lost to Germany in the final winning silver '"
      ]
     },
     "execution_count": 171,
     "metadata": {},
     "output_type": "execute_result"
    }
   ],
   "source": [
    "regex_punctuation = r'[^\\w\\s]'\n",
    "string_without_punct = re.sub(regex_punctuation,'',string)\n",
    "\n",
    "string_without_punct"
   ]
  },
  {
   "cell_type": "code",
   "execution_count": 6,
   "metadata": {
    "scrolled": true
   },
   "outputs": [],
   "source": [
    "class PorterStemmerCustom:\n",
    "    #https://tartarus.org/martin/PorterStemmer/python.txt\n",
    "    def isCons(self, letter):\n",
    "        if letter == 'a' or letter == 'e' or letter == 'i' or letter == 'o' or letter == 'u':\n",
    "            return False\n",
    "        else:\n",
    "            return True\n",
    "\n",
    "    def isConsonant(self, word, i):\n",
    "        letter = word[i]\n",
    "        if self.isCons(letter):\n",
    "            if letter == 'y' and self.isCons(word[i-1]):\n",
    "                return False\n",
    "            else:\n",
    "                return True\n",
    "        else:\n",
    "            return False\n",
    "\n",
    "    def isVowel(self, word, i):\n",
    "        return not(self.isConsonant(word, i))\n",
    "\n",
    "    # *S\n",
    "    def endsWith(self, stem, letter):\n",
    "        if stem.endswith(letter):\n",
    "            return True\n",
    "        else:\n",
    "            return False\n",
    "\n",
    "    # *v*\n",
    "    def containsVowel(self, stem):\n",
    "        for i in stem:\n",
    "            if not self.isCons(i):\n",
    "                return True\n",
    "        return False\n",
    "\n",
    "    # *d\n",
    "    def doubleCons(self, stem):\n",
    "        if len(stem) >= 2:\n",
    "            if self.isConsonant(stem, -1) and self.isConsonant(stem, -2):\n",
    "                return True\n",
    "            else:\n",
    "                return False\n",
    "        else:\n",
    "            return False\n",
    "\n",
    "    def getForm(self, word):\n",
    "        form = []\n",
    "        formStr = ''\n",
    "        for i in range(len(word)):\n",
    "            if self.isConsonant(word, i):\n",
    "                if i != 0:\n",
    "                    prev = form[-1]\n",
    "                    if prev != 'C':\n",
    "                        form.append('C')\n",
    "                else:\n",
    "                    form.append('C')\n",
    "            else:\n",
    "                if i != 0:\n",
    "                    prev = form[-1]\n",
    "                    if prev != 'V':\n",
    "                        form.append('V')\n",
    "                else:\n",
    "                    form.append('V')\n",
    "        for j in form:\n",
    "            formStr += j\n",
    "        return formStr\n",
    "\n",
    "    def getM(self, word):\n",
    "        form = self.getForm(word)\n",
    "        m = form.count('VC')\n",
    "        return m\n",
    "\n",
    "    # *o\n",
    "    def cvc(self, word):\n",
    "        if len(word) >= 3:\n",
    "            f = -3\n",
    "            s = -2\n",
    "            t = -1\n",
    "            third = word[t]\n",
    "            if self.isConsonant(word, f) and self.isVowel(word, s) and self.isConsonant(word, t):\n",
    "                if third != 'w' and third != 'x' and third != 'y':\n",
    "                    return True\n",
    "                else:\n",
    "                    return False\n",
    "            else:\n",
    "                return False\n",
    "        else:\n",
    "            return False\n",
    "\n",
    "    def replace(self, orig, rem, rep):\n",
    "        result = orig.rfind(rem)\n",
    "        base = orig[:result]\n",
    "        replaced = base + rep\n",
    "        return replaced\n",
    "\n",
    "    def replaceM0(self, orig, rem, rep):\n",
    "        result = orig.rfind(rem)\n",
    "        base = orig[:result]\n",
    "        if self.getM(base) > 0:\n",
    "            replaced = base + rep\n",
    "            return replaced\n",
    "        else:\n",
    "            return orig\n",
    "\n",
    "    def replaceM1(self, orig, rem, rep):\n",
    "        result = orig.rfind(rem)\n",
    "        base = orig[:result]\n",
    "        if self.getM(base) > 1:\n",
    "            replaced = base + rep\n",
    "            return replaced\n",
    "        else:\n",
    "            return orig\n",
    "\n",
    "    def step1a(self, word):\n",
    "        if word.endswith('sses'):\n",
    "            word = self.replace(word, 'sses', 'ss')\n",
    "        elif word.endswith('ies'):\n",
    "            word = self.replace(word, 'ies', 'i')\n",
    "        elif word.endswith('ss'):\n",
    "            word = self.replace(word, 'ss', 'ss')\n",
    "        elif word.endswith('s'):\n",
    "            word = self.replace(word, 's', '')\n",
    "        else:\n",
    "            pass\n",
    "        return word\n",
    "\n",
    "    def step1b(self, word):\n",
    "        flag = False\n",
    "        if word.endswith('eed'):\n",
    "            result = word.rfind('eed')\n",
    "            base = word[:result]\n",
    "            if self.getM(base) > 0:\n",
    "                word = base\n",
    "                word += 'ee'\n",
    "        elif word.endswith('ed'):\n",
    "            result = word.rfind('ed')\n",
    "            base = word[:result]\n",
    "            if self.containsVowel(base):\n",
    "                word = base\n",
    "                flag = True\n",
    "        elif word.endswith('ing'):\n",
    "            result = word.rfind('ing')\n",
    "            base = word[:result]\n",
    "            if self.containsVowel(base):\n",
    "                word = base\n",
    "                flag = True\n",
    "        if flag:\n",
    "            if word.endswith('at') or word.endswith('bl') or word.endswith('iz'):\n",
    "                word += 'e'\n",
    "            elif self.doubleCons(word) and not self.endsWith(word, 'l') and not self.endsWith(word, 's') and not self.endsWith(word, 'z'):\n",
    "                word = word[:-1]\n",
    "            elif self.getM(word) == 1 and self.cvc(word):\n",
    "                word += 'e'\n",
    "            else:\n",
    "                pass\n",
    "        else:\n",
    "            pass\n",
    "        return word\n",
    "\n",
    "    def step1c(self, word):\n",
    "        if word.endswith('y'):\n",
    "            result = word.rfind('y')\n",
    "            base = word[:result]\n",
    "            if self.containsVowel(base):\n",
    "                word = base\n",
    "                word += 'i'\n",
    "        return word\n",
    "\n",
    "    def step2(self, word):\n",
    "        if word.endswith('ational'):\n",
    "            word = self.replaceM0(word, 'ational', 'ate')\n",
    "        elif word.endswith('tional'):\n",
    "            word = self.replaceM0(word, 'tional', 'tion')\n",
    "        elif word.endswith('enci'):\n",
    "            word = self.replaceM0(word, 'enci', 'ence')\n",
    "        elif word.endswith('anci'):\n",
    "            word = self.replaceM0(word, 'anci', 'ance')\n",
    "        elif word.endswith('izer'):\n",
    "            word = self.replaceM0(word, 'izer', 'ize')\n",
    "        elif word.endswith('abli'):\n",
    "            word = self.replaceM0(word, 'abli', 'able')\n",
    "        elif word.endswith('alli'):\n",
    "            word = self.replaceM0(word, 'alli', 'al')\n",
    "        elif word.endswith('entli'):\n",
    "            word = self.replaceM0(word, 'entli', 'ent')\n",
    "        elif word.endswith('eli'):\n",
    "            word = self.replaceM0(word, 'eli', 'e')\n",
    "        elif word.endswith('ousli'):\n",
    "            word = self.replaceM0(word, 'ousli', 'ous')\n",
    "        elif word.endswith('ization'):\n",
    "            word = self.replaceM0(word, 'ization', 'ize')\n",
    "        elif word.endswith('ation'):\n",
    "            word = self.replaceM0(word, 'ation', 'ate')\n",
    "        elif word.endswith('ator'):\n",
    "            word = self.replaceM0(word, 'ator', 'ate')\n",
    "        elif word.endswith('alism'):\n",
    "            word = self.replaceM0(word, 'alism', 'al')\n",
    "        elif word.endswith('iveness'):\n",
    "            word = self.replaceM0(word, 'iveness', 'ive')\n",
    "        elif word.endswith('fulness'):\n",
    "            word = self.replaceM0(word, 'fulness', 'ful')\n",
    "        elif word.endswith('ousness'):\n",
    "            word = self.replaceM0(word, 'ousness', 'ous')\n",
    "        elif word.endswith('aliti'):\n",
    "            word = self.replaceM0(word, 'aliti', 'al')\n",
    "        elif word.endswith('iviti'):\n",
    "            word = self.replaceM0(word, 'iviti', 'ive')\n",
    "        elif word.endswith('biliti'):\n",
    "            word = self.replaceM0(word, 'biliti', 'ble')\n",
    "        return word\n",
    "\n",
    "    def step3(self, word):\n",
    "        if word.endswith('icate'):\n",
    "            word = self.replaceM0(word, 'icate', 'ic')\n",
    "        elif word.endswith('ative'):\n",
    "            word = self.replaceM0(word, 'ative', '')\n",
    "        elif word.endswith('alize'):\n",
    "            word = self.replaceM0(word, 'alize', 'al')\n",
    "        elif word.endswith('iciti'):\n",
    "            word = self.replaceM0(word, 'iciti', 'ic')\n",
    "        elif word.endswith('ful'):\n",
    "            word = self.replaceM0(word, 'ful', '')\n",
    "        elif word.endswith('ness'):\n",
    "            word = self.replaceM0(word, 'ness', '')\n",
    "        return word\n",
    "\n",
    "    def step4(self, word):\n",
    "        if word.endswith('al'):\n",
    "            word = self.replaceM1(word, 'al', '')\n",
    "        elif word.endswith('ance'):\n",
    "            word = self.replaceM1(word, 'ance', '')\n",
    "        elif word.endswith('ence'):\n",
    "            word = self.replaceM1(word, 'ence', '')\n",
    "        elif word.endswith('er'):\n",
    "            word = self.replaceM1(word, 'er', '')\n",
    "        elif word.endswith('ic'):\n",
    "            word = self.replaceM1(word, 'ic', '')\n",
    "        elif word.endswith('able'):\n",
    "            word = self.replaceM1(word, 'able', '')\n",
    "        elif word.endswith('ible'):\n",
    "            word = self.replaceM1(word, 'ible', '')\n",
    "        elif word.endswith('ant'):\n",
    "            word = self.replaceM1(word, 'ant', '')\n",
    "        elif word.endswith('ement'):\n",
    "            word = self.replaceM1(word, 'ement', '')\n",
    "        elif word.endswith('ment'):\n",
    "            word = self.replaceM1(word, 'ment', '')\n",
    "        elif word.endswith('ent'):\n",
    "            word = self.replaceM1(word, 'ent', '')\n",
    "        elif word.endswith('ou'):\n",
    "            word = self.replaceM1(word, 'ou', '')\n",
    "        elif word.endswith('ism'):\n",
    "            word = self.replaceM1(word, 'ism', '')\n",
    "        elif word.endswith('ate'):\n",
    "            word = self.replaceM1(word, 'ate', '')\n",
    "        elif word.endswith('iti'):\n",
    "            word = self.replaceM1(word, 'iti', '')\n",
    "        elif word.endswith('ous'):\n",
    "            word = self.replaceM1(word, 'ous', '')\n",
    "        elif word.endswith('ive'):\n",
    "            word = self.replaceM1(word, 'ive', '')\n",
    "        elif word.endswith('ize'):\n",
    "            word = self.replaceM1(word, 'ize', '')\n",
    "        elif word.endswith('ion'):\n",
    "            result = word.rfind('ion')\n",
    "            base = word[:result]\n",
    "            if self.getM(base) > 1 and (self.endsWith(base, 's') or self.endsWith(base, 't')):\n",
    "                word = base\n",
    "            word = self.replaceM1(word, '', '')\n",
    "        return word\n",
    "\n",
    "    def step5a(self, word):\n",
    "        if word.endswith('e'):\n",
    "            base = word[:-1]\n",
    "            if self.getM(base) > 1:\n",
    "                word = base\n",
    "            elif self.getM(base) == 1 and not self.cvc(base):\n",
    "                word = base\n",
    "        return word\n",
    "\n",
    "    def step5b(self, word):\n",
    "        if self.getM(word) > 1 and self.doubleCons(word) and self.endsWith(word, 'l'):\n",
    "            word = word[:-1]\n",
    "        return word\n",
    "\n",
    "    def stem(self, word):\n",
    "        word = word.lower()\n",
    "        word = self.step1a(word)\n",
    "        word = self.step1b(word)\n",
    "        word = self.step1c(word)\n",
    "        word = self.step2(word)\n",
    "        word = self.step3(word)\n",
    "        word = self.step4(word)\n",
    "        word = self.step5a(word)\n",
    "        word = self.step5b(word)\n",
    "        return word"
   ]
  },
  {
   "cell_type": "code",
   "execution_count": 7,
   "metadata": {},
   "outputs": [
    {
     "name": "stdout",
     "output_type": "stream",
     "text": [
      "['the', 'australian', 'women', '', 'nation', 'wheelchair', 'basketbal', 'team', 'plai', 'in', 'the', '2012', 'summer', 'paralymp', 'in', 'london', 'the', 'wheelchair', 'basketbal', 'team', 'known', 'a', 'the', 'glider', 'includ', 'nine', 'paralymp', 'veteran', 'bridi', 'kean', 'amanda', 'carter', 'sarah', 'stewart', 'tina', 'mckenzi', 'kyli', 'gauci', 'kati', 'hill', 'cobi', 'crispin', 'clare', 'nott', 'and', 'shellei', 'chaplin', 'pictur', 'along', 'with', 'three', 'newcom', 'amber', 'merritt', 'sarah', 'vinci', 'and', 'leann', 'del', 'toso', 'the', 'team', 'had', 'won', 'silver', 'in', 'sydnei', 'and', 'athen', 'but', 'never', 'gold', 'the', 'glider', 'face', 'a', 'formid', 'task', 'just', 'to', 'make', 'the', 'final', 'a', 'their', 'round-robin', 'pool', 'includ', 'brazil', 'great', 'britain', 'canada', 'and', 'the', 'netherland', 'after', 'a', 'narrow', 'victori', 'over', 'brazil', 'and', 'an', 'easier', 'on', 'against', 'great', 'britain', 'the', 'glider', 'were', 'defeat', 'by', 'canada', 'but', 'won', 'their', 'final', 'match', 'against', 'the', 'netherland', 'to', 'finish', 'at', 'the', 'top', 'of', 'their', 'pool', 'thei', 'went', 'on', 'to', 'win', 'the', 'quarterfin', 'against', 'mexico', 'and', 'the', 'semifin', 'against', 'the', 'unit', 'state', 'but', 'lost', 'to', 'germani', 'in', 'the', 'final', 'win', 'silver']\n"
     ]
    }
   ],
   "source": [
    "p = PorterStemmerCustom()\n",
    "stems = []\n",
    "for w in tokens:\n",
    "    stems.append(p.stem(w))\n",
    "print(stems)"
   ]
  },
  {
   "cell_type": "code",
   "execution_count": 8,
   "metadata": {},
   "outputs": [],
   "source": [
    "class StopWordsHandler:\n",
    "    #https://stackoverflow.com/questions/6022764/python-removing-list-element-while-iterating-over-list/6024599\n",
    "    #https://gist.github.com/sebleier/554280\n",
    "    def isStopWord(self,word):\n",
    "        stop_words = ['i', 'me', 'my', 'myself', 'we', 'our', 'ours', 'ourselves', 'you', \"you're\", \"you've\", \"you'll\", \"you'd\", 'your', 'yours', 'yourself', 'yourselves', 'he', 'him', 'his', 'himself', 'she', \"she's\", 'her', 'hers', 'herself', 'it', \"it's\", 'its', 'itself', 'they', 'them', 'their', 'theirs', 'themselves', 'what', 'which', 'who', 'whom', 'this', 'that', \"that'll\", 'these', 'those', 'am', 'is', 'are', 'was', 'were', 'be', 'been', 'being', 'have', 'has', 'had', 'having', 'do', 'does', 'did', 'doing', 'a', 'an', 'the', 'and', 'but', 'if', 'or', 'because', 'as', 'until', 'while', 'of', 'at', 'by', 'for', 'with', 'about', 'against', 'between', 'into', 'through', 'during', 'before', 'after', 'above', 'below', 'to', 'from', 'up', 'down', 'in', 'out', 'on', 'off', 'over', 'under', 'again', 'further', 'then', 'once', 'here', 'there', 'when', 'where', 'why', 'how', 'all', 'any', 'both', 'each', 'few', 'more', 'most', 'other', 'some', 'such', 'no', 'nor', 'not', 'only', 'own', 'same', 'so', 'than', 'too', 'very', 's', 't', 'can', 'will', 'just', 'don', \"don't\", 'should', \"should've\", 'now', 'd', 'll', 'm', 'o', 're', 've', 'y', 'ain', 'aren', \"aren't\", 'couldn', \"couldn't\", 'didn', \"didn't\", 'doesn', \"doesn't\", 'hadn', \"hadn't\", 'hasn', \"hasn't\", 'haven', \"haven't\", 'isn', \"isn't\", 'ma', 'mightn', \"mightn't\", 'mustn', \"mustn't\", 'needn', \"needn't\", 'shan', \"shan't\", 'shouldn', \"shouldn't\", 'wasn', \"wasn't\", 'weren', \"weren't\", 'won', \"won't\", 'wouldn', \"wouldn't\"]\n",
    "        if word in stop_words:\n",
    "            return True\n",
    "        else:\n",
    "            return False\n",
    "    def removeStopWords(self,words):\n",
    "        for i in list(words):\n",
    "            if self.isStopWord(i) or i == '':\n",
    "                words.remove(i)\n",
    "            else:\n",
    "                pass\n",
    "        return words"
   ]
  },
  {
   "cell_type": "code",
   "execution_count": 9,
   "metadata": {},
   "outputs": [
    {
     "name": "stdout",
     "output_type": "stream",
     "text": [
      "['australian', 'women', 'nation', 'wheelchair', 'basketbal', 'team', 'plai', '2012', 'summer', 'paralymp', 'london', 'wheelchair', 'basketbal', 'team', 'known', 'glider', 'includ', 'nine', 'paralymp', 'veteran', 'bridi', 'kean', 'amanda', 'carter', 'sarah', 'stewart', 'tina', 'mckenzi', 'kyli', 'gauci', 'kati', 'hill', 'cobi', 'crispin', 'clare', 'nott', 'shellei', 'chaplin', 'pictur', 'along', 'three', 'newcom', 'amber', 'merritt', 'sarah', 'vinci', 'leann', 'del', 'toso', 'team', 'silver', 'sydnei', 'athen', 'never', 'gold', 'glider', 'face', 'formid', 'task', 'make', 'final', 'round-robin', 'pool', 'includ', 'brazil', 'great', 'britain', 'canada', 'netherland', 'narrow', 'victori', 'brazil', 'easier', 'great', 'britain', 'glider', 'defeat', 'canada', 'final', 'match', 'netherland', 'finish', 'top', 'pool', 'thei', 'went', 'win', 'quarterfin', 'mexico', 'semifin', 'unit', 'state', 'lost', 'germani', 'final', 'win', 'silver']\n"
     ]
    }
   ],
   "source": [
    "swh = StopWordsHandler()\n",
    "stems = swh.removeStopWords(stems)\n",
    "\n",
    "print(stems)"
   ]
  },
  {
   "cell_type": "code",
   "execution_count": 38,
   "metadata": {},
   "outputs": [
    {
     "name": "stdout",
     "output_type": "stream",
     "text": [
      "['The', 'Australian', 'women', 's', 'national', 'wheelchair', 'basketball', 'team', 'played', 'in', 'the', '2012', 'Summer', 'Paralympics', 'in', 'London', 'The', 'wheelchair', 'basketball', 'team', 'known', 'as', 'the', 'Gliders', 'included', 'nine', 'Paralympic', 'veterans', 'Bridie', 'Kean', 'Amanda', 'Carter', 'Sarah', 'Stewart', 'Tina', 'McKenzie', 'Kylie', 'Gauci', 'Katie', 'Hill', 'Cobi', 'Crispin', 'Clare', 'Nott', 'and', 'Shelley', 'Chaplin', 'pictured', 'along', 'with', 'three', 'newcomers', 'Amber', 'Merritt', 'Sarah', 'Vinci', 'and', 'Leanne', 'Del', 'Toso', 'The', 'team', 'had', 'won', 'silver', 'in', 'Sydney', 'and', 'Athens', 'but', 'never', 'gold', 'The', 'Gliders', 'faced', 'a', 'formidable', 'task', 'just', 'to', 'make', 'the', 'finals', 'as', 'their', 'round-robin', 'pool', 'included', 'Brazil', 'Great', 'Britain', 'Canada', 'and', 'the', 'Netherlands', 'After', 'a', 'narrow', 'victory', 'over', 'Brazil', 'and', 'an', 'easier', 'one', 'against', 'Great', 'Britain', 'the', 'Gliders', 'were', 'defeated', 'by', 'Canada', 'but', 'won', 'their', 'final', 'match', 'against', 'the', 'Netherlands', 'to', 'finish', 'at', 'the', 'top', 'of', 'their', 'pool', 'They', 'went', 'on', 'to', 'win', 'the', 'quarterfinal', 'against', 'Mexico', 'and', 'the', 'semifinal', 'against', 'the', 'United', 'States', 'but', 'lost', 'to', 'Germany', 'in', 'the', 'final', 'winning', 'silver']\n"
     ]
    }
   ],
   "source": [
    "print(tokens)"
   ]
  },
  {
   "cell_type": "code",
   "execution_count": 172,
   "metadata": {},
   "outputs": [
    {
     "name": "stdout",
     "output_type": "stream",
     "text": [
      "['The', 'Australian', 'woman', 'national', 'wheelchair', 'basketball', 'team', 'played', 'in', 'the', '2012', 'Summer', 'Paralympics', 'in', 'London', 'The', 'wheelchair', 'basketball', 'team', 'know', 'as', 'the', 'Gliders', 'include', 'nine', 'Paralympic', 'veteran', 'Bridie', 'Kean', 'Amanda', 'Carter', 'Sarah', 'Stewart', 'Tina', 'McKenzie', 'Kylie', 'Gauci', 'Katie', 'Hill', 'Cobi', 'Crispin', 'Clare', 'Nott', 'and', 'Shelley', 'Chaplin', 'picture', 'along', 'with', 'three', 'newcomer', 'Amber', 'Merritt', 'Sarah', 'Vinci', 'and', 'Leanne', 'Del', 'Toso', 'The', 'team', 'have', 'won', 'silver', 'in', 'Sydney', 'and', 'Athens', 'but', 'never', 'gold', 'The', 'Gliders', 'face', 'a', 'formidable', 'task', 'just', 'to', 'make', 'the', 'final', 'as', 'their', 'roundrobin', 'pool', 'include', 'Brazil', 'Great', 'Britain', 'Canada', 'and', 'the', 'Netherlands', 'After', 'a', 'narrow', 'victory', 'over', 'Brazil', 'and', 'an', 'easy', 'one', 'against', 'Great', 'Britain', 'the', 'Gliders', 'be', 'defeat', 'by', 'Canada', 'but', 'won', 'their', 'final', 'match', 'against', 'the', 'Netherlands', 'to', 'finish', 'at', 'the', 'top', 'of', 'their', 'pool', 'They', 'go', 'on', 'to', 'win', 'the', 'quarterfinal', 'against', 'Mexico', 'and', 'the', 'semifinal', 'against', 'the', 'United', 'States', 'but', 'lose', 'to', 'Germany', 'in', 'the', 'final', 'win', 'silver']\n"
     ]
    }
   ],
   "source": [
    "def get_wordnet_pos(word):\n",
    "    tag = nltk.pos_tag([word])[0][1][0].upper()\n",
    "    tag_dict = {\"J\": wordnet.ADJ,\n",
    "                \"N\": wordnet.NOUN,\n",
    "                \"V\": wordnet.VERB,\n",
    "                \"R\": wordnet.ADV}\n",
    "\n",
    "    return tag_dict.get(tag, wordnet.VERB)\n",
    "\n",
    "lemmatizer = WordNetLemmatizer()\n",
    "\n",
    "print([lemmatizer.lemmatize(w, get_wordnet_pos(w)) for w in nltk.word_tokenize(string_without_punct)])\n",
    "\n",
    "  "
   ]
  }
 ],
 "metadata": {
  "kernelspec": {
   "display_name": "Python 3",
   "language": "python",
   "name": "python3"
  },
  "language_info": {
   "codemirror_mode": {
    "name": "ipython",
    "version": 3
   },
   "file_extension": ".py",
   "mimetype": "text/x-python",
   "name": "python",
   "nbconvert_exporter": "python",
   "pygments_lexer": "ipython3",
   "version": "3.7.0"
  }
 },
 "nbformat": 4,
 "nbformat_minor": 2
}
